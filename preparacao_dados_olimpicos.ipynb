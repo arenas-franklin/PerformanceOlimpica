{
  "nbformat": 4,
  "nbformat_minor": 0,
  "metadata": {
    "colab": {
      "provenance": [],
      "mount_file_id": "1CfmKfGhdoMGn5iubKRDs-d7eBG8KYIW2",
      "authorship_tag": "ABX9TyPATVU5KEL8i7+Dns3/mCe7",
      "include_colab_link": true
    },
    "kernelspec": {
      "name": "python3",
      "display_name": "Python 3"
    },
    "language_info": {
      "name": "python"
    }
  },
  "cells": [
    {
      "cell_type": "markdown",
      "metadata": {
        "id": "view-in-github",
        "colab_type": "text"
      },
      "source": [
        "<a href=\"https://colab.research.google.com/github/arenas-franklin/PerformanceOlimpica/blob/main/preparacao_dados_olimpicos.ipynb\" target=\"_parent\"><img src=\"https://colab.research.google.com/assets/colab-badge.svg\" alt=\"Open In Colab\"/></a>"
      ]
    },
    {
      "cell_type": "markdown",
      "source": [
        "# Preparação de dados Olímpicos\n",
        "---\n",
        "\n"
      ],
      "metadata": {
        "id": "m7ES2SUxSZsg"
      }
    },
    {
      "cell_type": "code",
      "source": [
        "import pandas as pd"
      ],
      "metadata": {
        "id": "uWZfQd9ySOr0"
      },
      "execution_count": 11,
      "outputs": []
    },
    {
      "cell_type": "code",
      "source": [
        "# Carregar todos os datasets do CSV\n",
        "try:\n",
        "  athlete_bio_df = pd.read_csv('/content/drive/MyDrive/dataset/performace_olimpica/olympics_athlete_bio.csv')\n",
        "  athlete_event_result_df = pd.read_csv('/content/drive/MyDrive/dataset/performace_olimpica/olympics_athlete_event_result.csv')\n",
        "  country_df = pd.read_csv('/content/drive/MyDrive/dataset/performace_olimpica/olympics_country.csv')\n",
        "  game_df = pd.read_csv('/content/drive/MyDrive/dataset/performace_olimpica/olympics_game.csv')\n",
        "  game_medal_tally_df = pd.read_csv('/content/drive/MyDrive/dataset/performace_olimpica/olympics_game_medal_tally.csv')\n",
        "  print(\"arquivos carregados com sucesso !!!\")\n",
        "except FileNotFoundError as e:\n",
        "  print(f\"Erro: O arquivo {e.filenome} não foi encontrado. Certifique-se de que todos os arquivos foram carregados corretamente.\")\n",
        "  exit()"
      ],
      "metadata": {
        "colab": {
          "base_uri": "https://localhost:8080/"
        },
        "id": "dHcbkcdJSkcH",
        "outputId": "72b07953-0fc3-485e-b47a-1b04d5f66a36"
      },
      "execution_count": 12,
      "outputs": [
        {
          "output_type": "stream",
          "name": "stderr",
          "text": [
            "/tmp/ipython-input-3861304984.py:4: DtypeWarning: Columns (9) have mixed types. Specify dtype option on import or set low_memory=False.\n",
            "  athlete_event_result_df = pd.read_csv('/content/drive/MyDrive/dataset/performace_olimpica/olympics_athlete_event_result.csv')\n"
          ]
        },
        {
          "output_type": "stream",
          "name": "stdout",
          "text": [
            "arquivos carregados com sucesso !!!\n"
          ]
        }
      ]
    },
    {
      "cell_type": "markdown",
      "source": [
        "## Etapa 1: Unir os dados  e preparar a base completa"
      ],
      "metadata": {
        "id": "_kLoyD_RYe1F"
      }
    },
    {
      "cell_type": "code",
      "source": [
        "#Unir dados de resultados de eventos com dados biográficos de atletas\n",
        "combined_df = pd.merge(athlete_event_result_df, athlete_bio_df, on='athlete_id', how='left', suffixes=('_event', '_bio'))"
      ],
      "metadata": {
        "id": "57btlGO3jx9u"
      },
      "execution_count": 13,
      "outputs": []
    },
    {
      "cell_type": "code",
      "source": [
        "# Unir com os dados os jogos para obter a data de início e o tipo de jogo\n",
        "combined_df = pd.merge(combined_df, game_df[['edition_id','start_date', 'year']], on='edition_id', how='left')\n",
        "combined_df = combined_df.rename(columns={'year': 'game_year'})"
      ],
      "metadata": {
        "id": "JZXZkRE_pLE3"
      },
      "execution_count": 14,
      "outputs": []
    },
    {
      "cell_type": "code",
      "source": [
        "# Unir com osdados dos países para obter o nome completo do país\n",
        "combined_df = pd.merge(combined_df, country_df, left_on='country_noc_event', right_on='noc', how='left')\n",
        "combined_df = combined_df.rename( columns={'name':'country_full_name'})"
      ],
      "metadata": {
        "id": "n_pnz1hCqvWN"
      },
      "execution_count": 15,
      "outputs": []
    },
    {
      "cell_type": "code",
      "source": [
        "# removendo colunas duplicadas ou redundantes\n",
        "combined_df = combined_df.drop(columns=['country_bio', 'noc', 'country_event'],errors='ignore')"
      ],
      "metadata": {
        "id": "ejpJDjhCujWo"
      },
      "execution_count": 16,
      "outputs": []
    },
    {
      "cell_type": "markdown",
      "source": [
        "## Etapa 2: Limpeza e criado feature"
      ],
      "metadata": {
        "id": "EOSDyczNvcvJ"
      }
    },
    {
      "cell_type": "code",
      "source": [
        "# Extrair o tipo de jogo (summer ou Winter)\n",
        "combined_df['game_type'] = combined_df['edition'].str.split(' ').str[1]"
      ],
      "metadata": {
        "id": "UMZGoCApvJFn"
      },
      "execution_count": 21,
      "outputs": []
    },
    {
      "cell_type": "code",
      "source": [
        "#Converter colunas de data para o tipo datetime\n",
        "combined_df['start_date'] = pd.to_datetime(combined_df['start_date'])\n",
        "combined_df['birth_date'] = pd.to_datetime(combined_df['birth_date'])"
      ],
      "metadata": {
        "id": "62_xrA2-FIam"
      },
      "execution_count": 25,
      "outputs": []
    },
    {
      "cell_type": "code",
      "source": [
        "# Colcular a idade do atleta no época dos jogos\n",
        "combined_df['age_at_game'] = (combined_df['start_date'] - combined_df['birth_date']).dt.days // 365.25"
      ],
      "metadata": {
        "id": "0EAoSlXDG9Fi"
      },
      "execution_count": 27,
      "outputs": []
    },
    {
      "cell_type": "code",
      "source": [
        "# Calcular  o IMC (Indice de Massa Corporal), tratando valores  ausentes\n",
        "combined_df['bmi'] = combined_df['weight'] / (combined_df['height'] / 100) ** 2"
      ],
      "metadata": {
        "id": "ZNhL4-4dH4yg"
      },
      "execution_count": 29,
      "outputs": []
    },
    {
      "cell_type": "code",
      "source": [
        "#Unir com o total de medalhas por país em cada edição\n",
        "game_medal_tally_df = game_medal_tally_df.rename(columns={\n",
        "    'gold': 'country_total_gold',\n",
        "    'silver': 'country_total_silver',\n",
        "    'bronze': 'country_total_bronze',\n",
        "    'total': 'country_total_medals',\n",
        "    'country_noc': 'country_noc_event' # Renomear para corresponder\n",
        "})\n",
        "final_df = pd.merge(combined_df, game_medal_tally_df[['edition_id', 'country_noc_event', 'country_total_gold', 'country_total_silver', 'country_total_bronze', 'country_total_medals']], on=['edition_id', 'country_noc_event'], how='left')\n",
        "final_df = final_df.rename(columns={'country_noc_event': 'country_noc'})"
      ],
      "metadata": {
        "id": "3NesvqUsIppS"
      },
      "execution_count": 31,
      "outputs": []
    },
    {
      "cell_type": "markdown",
      "source": [
        "## Etapa 3: Salvar o arquivo final"
      ],
      "metadata": {
        "id": "2A1BjlzRKHN-"
      }
    },
    {
      "cell_type": "code",
      "source": [
        "output_file = 'olympics_full_performance_data.csv'\n",
        "final_df.to_csv(output_file, index=False)\n",
        "\n",
        "print(f\"O arquivo '{output_file}' foi criado com sucesso.\")"
      ],
      "metadata": {
        "colab": {
          "base_uri": "https://localhost:8080/"
        },
        "id": "u7x-qVA7Jpx4",
        "outputId": "1e307995-7295-4635-d00f-0d7c01ff8657"
      },
      "execution_count": 33,
      "outputs": [
        {
          "output_type": "stream",
          "name": "stdout",
          "text": [
            "O arquivo 'olympics_full_performance_data.csv' foi criado com sucesso.\n"
          ]
        }
      ]
    },
    {
      "cell_type": "code",
      "source": [
        "# Primeiras 5 linhas da tabela\n",
        "final_df.head()"
      ],
      "metadata": {
        "colab": {
          "base_uri": "https://localhost:8080/",
          "height": 429
        },
        "id": "-h9K0D6EKZr5",
        "outputId": "0e07dd94-18a5-4915-9074-3005ec5751ba"
      },
      "execution_count": 34,
      "outputs": [
        {
          "output_type": "execute_result",
          "data": {
            "text/plain": [
              "                edition  edition_id country_noc     sport          event  \\\n",
              "0  1928 Winter Olympics          30         SUI  Skeleton  Skeleton, Men   \n",
              "1  1928 Winter Olympics          30         FRA  Skeleton  Skeleton, Men   \n",
              "2  1928 Winter Olympics          30         FRA  Skeleton  Skeleton, Men   \n",
              "3  1928 Winter Olympics          30         GBR  Skeleton  Skeleton, Men   \n",
              "4  1928 Winter Olympics          30         SUI  Skeleton  Skeleton, Men   \n",
              "\n",
              "   result_id                  athlete  athlete_id        position medal  ...  \\\n",
              "0          1         Willy von Eschen       98710  Did not finish   NaN  ...   \n",
              "1          1  Jean, Comte de Beaumont       42118   Did not start   NaN  ...   \n",
              "2          1          Pierre Dormeuil       85267  Did not finish   NaN  ...   \n",
              "3          1    Lord Brabazon of Tara     1202561   Did not start   NaN  ...   \n",
              "4          1         Alexander Berner       84063               5   NaN  ...   \n",
              "\n",
              "   start_date game_year         name_y game_type  age_at_game        bmi  \\\n",
              "0  1928-02-11      1928    Switzerland    Winter          NaN        NaN   \n",
              "1  1928-02-11      1928         France    Winter         24.0        NaN   \n",
              "2  1928-02-11      1928         France    Winter         40.0  22.446689   \n",
              "3  1928-02-11      1928  Great Britain    Winter         44.0        NaN   \n",
              "4  1928-02-11      1928    Switzerland    Winter          NaN        NaN   \n",
              "\n",
              "   country_total_gold country_total_silver country_total_bronze  \\\n",
              "0                 0.0                  0.0                  1.0   \n",
              "1                 1.0                  0.0                  0.0   \n",
              "2                 1.0                  0.0                  0.0   \n",
              "3                 0.0                  0.0                  1.0   \n",
              "4                 0.0                  0.0                  1.0   \n",
              "\n",
              "  country_total_medals  \n",
              "0                  1.0  \n",
              "1                  1.0  \n",
              "2                  1.0  \n",
              "3                  1.0  \n",
              "4                  1.0  \n",
              "\n",
              "[5 rows x 31 columns]"
            ],
            "text/html": [
              "\n",
              "  <div id=\"df-8f767ad8-7c47-459a-8311-cc4c0f76e82e\" class=\"colab-df-container\">\n",
              "    <div>\n",
              "<style scoped>\n",
              "    .dataframe tbody tr th:only-of-type {\n",
              "        vertical-align: middle;\n",
              "    }\n",
              "\n",
              "    .dataframe tbody tr th {\n",
              "        vertical-align: top;\n",
              "    }\n",
              "\n",
              "    .dataframe thead th {\n",
              "        text-align: right;\n",
              "    }\n",
              "</style>\n",
              "<table border=\"1\" class=\"dataframe\">\n",
              "  <thead>\n",
              "    <tr style=\"text-align: right;\">\n",
              "      <th></th>\n",
              "      <th>edition</th>\n",
              "      <th>edition_id</th>\n",
              "      <th>country_noc</th>\n",
              "      <th>sport</th>\n",
              "      <th>event</th>\n",
              "      <th>result_id</th>\n",
              "      <th>athlete</th>\n",
              "      <th>athlete_id</th>\n",
              "      <th>position</th>\n",
              "      <th>medal</th>\n",
              "      <th>...</th>\n",
              "      <th>start_date</th>\n",
              "      <th>game_year</th>\n",
              "      <th>name_y</th>\n",
              "      <th>game_type</th>\n",
              "      <th>age_at_game</th>\n",
              "      <th>bmi</th>\n",
              "      <th>country_total_gold</th>\n",
              "      <th>country_total_silver</th>\n",
              "      <th>country_total_bronze</th>\n",
              "      <th>country_total_medals</th>\n",
              "    </tr>\n",
              "  </thead>\n",
              "  <tbody>\n",
              "    <tr>\n",
              "      <th>0</th>\n",
              "      <td>1928 Winter Olympics</td>\n",
              "      <td>30</td>\n",
              "      <td>SUI</td>\n",
              "      <td>Skeleton</td>\n",
              "      <td>Skeleton, Men</td>\n",
              "      <td>1</td>\n",
              "      <td>Willy von Eschen</td>\n",
              "      <td>98710</td>\n",
              "      <td>Did not finish</td>\n",
              "      <td>NaN</td>\n",
              "      <td>...</td>\n",
              "      <td>1928-02-11</td>\n",
              "      <td>1928</td>\n",
              "      <td>Switzerland</td>\n",
              "      <td>Winter</td>\n",
              "      <td>NaN</td>\n",
              "      <td>NaN</td>\n",
              "      <td>0.0</td>\n",
              "      <td>0.0</td>\n",
              "      <td>1.0</td>\n",
              "      <td>1.0</td>\n",
              "    </tr>\n",
              "    <tr>\n",
              "      <th>1</th>\n",
              "      <td>1928 Winter Olympics</td>\n",
              "      <td>30</td>\n",
              "      <td>FRA</td>\n",
              "      <td>Skeleton</td>\n",
              "      <td>Skeleton, Men</td>\n",
              "      <td>1</td>\n",
              "      <td>Jean, Comte de Beaumont</td>\n",
              "      <td>42118</td>\n",
              "      <td>Did not start</td>\n",
              "      <td>NaN</td>\n",
              "      <td>...</td>\n",
              "      <td>1928-02-11</td>\n",
              "      <td>1928</td>\n",
              "      <td>France</td>\n",
              "      <td>Winter</td>\n",
              "      <td>24.0</td>\n",
              "      <td>NaN</td>\n",
              "      <td>1.0</td>\n",
              "      <td>0.0</td>\n",
              "      <td>0.0</td>\n",
              "      <td>1.0</td>\n",
              "    </tr>\n",
              "    <tr>\n",
              "      <th>2</th>\n",
              "      <td>1928 Winter Olympics</td>\n",
              "      <td>30</td>\n",
              "      <td>FRA</td>\n",
              "      <td>Skeleton</td>\n",
              "      <td>Skeleton, Men</td>\n",
              "      <td>1</td>\n",
              "      <td>Pierre Dormeuil</td>\n",
              "      <td>85267</td>\n",
              "      <td>Did not finish</td>\n",
              "      <td>NaN</td>\n",
              "      <td>...</td>\n",
              "      <td>1928-02-11</td>\n",
              "      <td>1928</td>\n",
              "      <td>France</td>\n",
              "      <td>Winter</td>\n",
              "      <td>40.0</td>\n",
              "      <td>22.446689</td>\n",
              "      <td>1.0</td>\n",
              "      <td>0.0</td>\n",
              "      <td>0.0</td>\n",
              "      <td>1.0</td>\n",
              "    </tr>\n",
              "    <tr>\n",
              "      <th>3</th>\n",
              "      <td>1928 Winter Olympics</td>\n",
              "      <td>30</td>\n",
              "      <td>GBR</td>\n",
              "      <td>Skeleton</td>\n",
              "      <td>Skeleton, Men</td>\n",
              "      <td>1</td>\n",
              "      <td>Lord Brabazon of Tara</td>\n",
              "      <td>1202561</td>\n",
              "      <td>Did not start</td>\n",
              "      <td>NaN</td>\n",
              "      <td>...</td>\n",
              "      <td>1928-02-11</td>\n",
              "      <td>1928</td>\n",
              "      <td>Great Britain</td>\n",
              "      <td>Winter</td>\n",
              "      <td>44.0</td>\n",
              "      <td>NaN</td>\n",
              "      <td>0.0</td>\n",
              "      <td>0.0</td>\n",
              "      <td>1.0</td>\n",
              "      <td>1.0</td>\n",
              "    </tr>\n",
              "    <tr>\n",
              "      <th>4</th>\n",
              "      <td>1928 Winter Olympics</td>\n",
              "      <td>30</td>\n",
              "      <td>SUI</td>\n",
              "      <td>Skeleton</td>\n",
              "      <td>Skeleton, Men</td>\n",
              "      <td>1</td>\n",
              "      <td>Alexander Berner</td>\n",
              "      <td>84063</td>\n",
              "      <td>5</td>\n",
              "      <td>NaN</td>\n",
              "      <td>...</td>\n",
              "      <td>1928-02-11</td>\n",
              "      <td>1928</td>\n",
              "      <td>Switzerland</td>\n",
              "      <td>Winter</td>\n",
              "      <td>NaN</td>\n",
              "      <td>NaN</td>\n",
              "      <td>0.0</td>\n",
              "      <td>0.0</td>\n",
              "      <td>1.0</td>\n",
              "      <td>1.0</td>\n",
              "    </tr>\n",
              "  </tbody>\n",
              "</table>\n",
              "<p>5 rows × 31 columns</p>\n",
              "</div>\n",
              "    <div class=\"colab-df-buttons\">\n",
              "\n",
              "  <div class=\"colab-df-container\">\n",
              "    <button class=\"colab-df-convert\" onclick=\"convertToInteractive('df-8f767ad8-7c47-459a-8311-cc4c0f76e82e')\"\n",
              "            title=\"Convert this dataframe to an interactive table.\"\n",
              "            style=\"display:none;\">\n",
              "\n",
              "  <svg xmlns=\"http://www.w3.org/2000/svg\" height=\"24px\" viewBox=\"0 -960 960 960\">\n",
              "    <path d=\"M120-120v-720h720v720H120Zm60-500h600v-160H180v160Zm220 220h160v-160H400v160Zm0 220h160v-160H400v160ZM180-400h160v-160H180v160Zm440 0h160v-160H620v160ZM180-180h160v-160H180v160Zm440 0h160v-160H620v160Z\"/>\n",
              "  </svg>\n",
              "    </button>\n",
              "\n",
              "  <style>\n",
              "    .colab-df-container {\n",
              "      display:flex;\n",
              "      gap: 12px;\n",
              "    }\n",
              "\n",
              "    .colab-df-convert {\n",
              "      background-color: #E8F0FE;\n",
              "      border: none;\n",
              "      border-radius: 50%;\n",
              "      cursor: pointer;\n",
              "      display: none;\n",
              "      fill: #1967D2;\n",
              "      height: 32px;\n",
              "      padding: 0 0 0 0;\n",
              "      width: 32px;\n",
              "    }\n",
              "\n",
              "    .colab-df-convert:hover {\n",
              "      background-color: #E2EBFA;\n",
              "      box-shadow: 0px 1px 2px rgba(60, 64, 67, 0.3), 0px 1px 3px 1px rgba(60, 64, 67, 0.15);\n",
              "      fill: #174EA6;\n",
              "    }\n",
              "\n",
              "    .colab-df-buttons div {\n",
              "      margin-bottom: 4px;\n",
              "    }\n",
              "\n",
              "    [theme=dark] .colab-df-convert {\n",
              "      background-color: #3B4455;\n",
              "      fill: #D2E3FC;\n",
              "    }\n",
              "\n",
              "    [theme=dark] .colab-df-convert:hover {\n",
              "      background-color: #434B5C;\n",
              "      box-shadow: 0px 1px 3px 1px rgba(0, 0, 0, 0.15);\n",
              "      filter: drop-shadow(0px 1px 2px rgba(0, 0, 0, 0.3));\n",
              "      fill: #FFFFFF;\n",
              "    }\n",
              "  </style>\n",
              "\n",
              "    <script>\n",
              "      const buttonEl =\n",
              "        document.querySelector('#df-8f767ad8-7c47-459a-8311-cc4c0f76e82e button.colab-df-convert');\n",
              "      buttonEl.style.display =\n",
              "        google.colab.kernel.accessAllowed ? 'block' : 'none';\n",
              "\n",
              "      async function convertToInteractive(key) {\n",
              "        const element = document.querySelector('#df-8f767ad8-7c47-459a-8311-cc4c0f76e82e');\n",
              "        const dataTable =\n",
              "          await google.colab.kernel.invokeFunction('convertToInteractive',\n",
              "                                                    [key], {});\n",
              "        if (!dataTable) return;\n",
              "\n",
              "        const docLinkHtml = 'Like what you see? Visit the ' +\n",
              "          '<a target=\"_blank\" href=https://colab.research.google.com/notebooks/data_table.ipynb>data table notebook</a>'\n",
              "          + ' to learn more about interactive tables.';\n",
              "        element.innerHTML = '';\n",
              "        dataTable['output_type'] = 'display_data';\n",
              "        await google.colab.output.renderOutput(dataTable, element);\n",
              "        const docLink = document.createElement('div');\n",
              "        docLink.innerHTML = docLinkHtml;\n",
              "        element.appendChild(docLink);\n",
              "      }\n",
              "    </script>\n",
              "  </div>\n",
              "\n",
              "\n",
              "    <div id=\"df-6102fc27-83a7-4082-a2a5-2d4e339560b2\">\n",
              "      <button class=\"colab-df-quickchart\" onclick=\"quickchart('df-6102fc27-83a7-4082-a2a5-2d4e339560b2')\"\n",
              "                title=\"Suggest charts\"\n",
              "                style=\"display:none;\">\n",
              "\n",
              "<svg xmlns=\"http://www.w3.org/2000/svg\" height=\"24px\"viewBox=\"0 0 24 24\"\n",
              "     width=\"24px\">\n",
              "    <g>\n",
              "        <path d=\"M19 3H5c-1.1 0-2 .9-2 2v14c0 1.1.9 2 2 2h14c1.1 0 2-.9 2-2V5c0-1.1-.9-2-2-2zM9 17H7v-7h2v7zm4 0h-2V7h2v10zm4 0h-2v-4h2v4z\"/>\n",
              "    </g>\n",
              "</svg>\n",
              "      </button>\n",
              "\n",
              "<style>\n",
              "  .colab-df-quickchart {\n",
              "      --bg-color: #E8F0FE;\n",
              "      --fill-color: #1967D2;\n",
              "      --hover-bg-color: #E2EBFA;\n",
              "      --hover-fill-color: #174EA6;\n",
              "      --disabled-fill-color: #AAA;\n",
              "      --disabled-bg-color: #DDD;\n",
              "  }\n",
              "\n",
              "  [theme=dark] .colab-df-quickchart {\n",
              "      --bg-color: #3B4455;\n",
              "      --fill-color: #D2E3FC;\n",
              "      --hover-bg-color: #434B5C;\n",
              "      --hover-fill-color: #FFFFFF;\n",
              "      --disabled-bg-color: #3B4455;\n",
              "      --disabled-fill-color: #666;\n",
              "  }\n",
              "\n",
              "  .colab-df-quickchart {\n",
              "    background-color: var(--bg-color);\n",
              "    border: none;\n",
              "    border-radius: 50%;\n",
              "    cursor: pointer;\n",
              "    display: none;\n",
              "    fill: var(--fill-color);\n",
              "    height: 32px;\n",
              "    padding: 0;\n",
              "    width: 32px;\n",
              "  }\n",
              "\n",
              "  .colab-df-quickchart:hover {\n",
              "    background-color: var(--hover-bg-color);\n",
              "    box-shadow: 0 1px 2px rgba(60, 64, 67, 0.3), 0 1px 3px 1px rgba(60, 64, 67, 0.15);\n",
              "    fill: var(--button-hover-fill-color);\n",
              "  }\n",
              "\n",
              "  .colab-df-quickchart-complete:disabled,\n",
              "  .colab-df-quickchart-complete:disabled:hover {\n",
              "    background-color: var(--disabled-bg-color);\n",
              "    fill: var(--disabled-fill-color);\n",
              "    box-shadow: none;\n",
              "  }\n",
              "\n",
              "  .colab-df-spinner {\n",
              "    border: 2px solid var(--fill-color);\n",
              "    border-color: transparent;\n",
              "    border-bottom-color: var(--fill-color);\n",
              "    animation:\n",
              "      spin 1s steps(1) infinite;\n",
              "  }\n",
              "\n",
              "  @keyframes spin {\n",
              "    0% {\n",
              "      border-color: transparent;\n",
              "      border-bottom-color: var(--fill-color);\n",
              "      border-left-color: var(--fill-color);\n",
              "    }\n",
              "    20% {\n",
              "      border-color: transparent;\n",
              "      border-left-color: var(--fill-color);\n",
              "      border-top-color: var(--fill-color);\n",
              "    }\n",
              "    30% {\n",
              "      border-color: transparent;\n",
              "      border-left-color: var(--fill-color);\n",
              "      border-top-color: var(--fill-color);\n",
              "      border-right-color: var(--fill-color);\n",
              "    }\n",
              "    40% {\n",
              "      border-color: transparent;\n",
              "      border-right-color: var(--fill-color);\n",
              "      border-top-color: var(--fill-color);\n",
              "    }\n",
              "    60% {\n",
              "      border-color: transparent;\n",
              "      border-right-color: var(--fill-color);\n",
              "    }\n",
              "    80% {\n",
              "      border-color: transparent;\n",
              "      border-right-color: var(--fill-color);\n",
              "      border-bottom-color: var(--fill-color);\n",
              "    }\n",
              "    90% {\n",
              "      border-color: transparent;\n",
              "      border-bottom-color: var(--fill-color);\n",
              "    }\n",
              "  }\n",
              "</style>\n",
              "\n",
              "      <script>\n",
              "        async function quickchart(key) {\n",
              "          const quickchartButtonEl =\n",
              "            document.querySelector('#' + key + ' button');\n",
              "          quickchartButtonEl.disabled = true;  // To prevent multiple clicks.\n",
              "          quickchartButtonEl.classList.add('colab-df-spinner');\n",
              "          try {\n",
              "            const charts = await google.colab.kernel.invokeFunction(\n",
              "                'suggestCharts', [key], {});\n",
              "          } catch (error) {\n",
              "            console.error('Error during call to suggestCharts:', error);\n",
              "          }\n",
              "          quickchartButtonEl.classList.remove('colab-df-spinner');\n",
              "          quickchartButtonEl.classList.add('colab-df-quickchart-complete');\n",
              "        }\n",
              "        (() => {\n",
              "          let quickchartButtonEl =\n",
              "            document.querySelector('#df-6102fc27-83a7-4082-a2a5-2d4e339560b2 button');\n",
              "          quickchartButtonEl.style.display =\n",
              "            google.colab.kernel.accessAllowed ? 'block' : 'none';\n",
              "        })();\n",
              "      </script>\n",
              "    </div>\n",
              "\n",
              "    </div>\n",
              "  </div>\n"
            ],
            "application/vnd.google.colaboratory.intrinsic+json": {
              "type": "dataframe",
              "variable_name": "final_df"
            }
          },
          "metadata": {},
          "execution_count": 34
        }
      ]
    },
    {
      "cell_type": "code",
      "source": [
        "# informação do DataFrame\n",
        "final_df.info()"
      ],
      "metadata": {
        "colab": {
          "base_uri": "https://localhost:8080/"
        },
        "id": "KFaSk6vWMBpH",
        "outputId": "6e37308b-eff4-4dac-a04c-1ac7a3d762e5"
      },
      "execution_count": 35,
      "outputs": [
        {
          "output_type": "stream",
          "name": "stdout",
          "text": [
            "<class 'pandas.core.frame.DataFrame'>\n",
            "RangeIndex: 318019 entries, 0 to 318018\n",
            "Data columns (total 31 columns):\n",
            " #   Column                Non-Null Count   Dtype         \n",
            "---  ------                --------------   -----         \n",
            " 0   edition               318019 non-null  object        \n",
            " 1   edition_id            318019 non-null  int64         \n",
            " 2   country_noc           318019 non-null  object        \n",
            " 3   sport                 318019 non-null  object        \n",
            " 4   event                 318019 non-null  object        \n",
            " 5   result_id             318019 non-null  int64         \n",
            " 6   athlete               318019 non-null  object        \n",
            " 7   athlete_id            318019 non-null  int64         \n",
            " 8   position              318019 non-null  object        \n",
            " 9   medal                 44996 non-null   object        \n",
            " 10  is_team_sport         318019 non-null  bool          \n",
            " 11  name_x                318012 non-null  object        \n",
            " 12  sex                   318012 non-null  object        \n",
            " 13  birth_date            308073 non-null  datetime64[ns]\n",
            " 14  birth_year            312104 non-null  float64       \n",
            " 15  height                230074 non-null  float64       \n",
            " 16  weight                227507 non-null  float64       \n",
            " 17  country               318012 non-null  object        \n",
            " 18  country_noc_bio       318012 non-null  object        \n",
            " 19  description           121116 non-null  object        \n",
            " 20  special_notes         153127 non-null  object        \n",
            " 21  start_date            313687 non-null  datetime64[ns]\n",
            " 22  game_year             318019 non-null  int64         \n",
            " 23  name_y                318019 non-null  object        \n",
            " 24  game_type             318019 non-null  object        \n",
            " 25  age_at_game           305605 non-null  float64       \n",
            " 26  bmi                   227507 non-null  float64       \n",
            " 27  country_total_gold    280117 non-null  float64       \n",
            " 28  country_total_silver  280117 non-null  float64       \n",
            " 29  country_total_bronze  280117 non-null  float64       \n",
            " 30  country_total_medals  280117 non-null  float64       \n",
            "dtypes: bool(1), datetime64[ns](2), float64(9), int64(4), object(15)\n",
            "memory usage: 73.1+ MB\n"
          ]
        }
      ]
    },
    {
      "cell_type": "code",
      "source": [
        "# total de atletas ùnicos\n",
        "final_df['athlete_id'].nunique()"
      ],
      "metadata": {
        "colab": {
          "base_uri": "https://localhost:8080/"
        },
        "id": "RdHlQ4cXMJd2",
        "outputId": "5cb0ee08-ba0b-4784-9b06-4d0eda67277f"
      },
      "execution_count": 37,
      "outputs": [
        {
          "output_type": "execute_result",
          "data": {
            "text/plain": [
              "155867"
            ]
          },
          "metadata": {},
          "execution_count": 37
        }
      ]
    },
    {
      "cell_type": "code",
      "source": [],
      "metadata": {
        "id": "Ib8mIOLPMsOQ"
      },
      "execution_count": null,
      "outputs": []
    }
  ]
}